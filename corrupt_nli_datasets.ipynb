{
  "nbformat": 4,
  "nbformat_minor": 0,
  "metadata": {
    "colab": {
      "name": "corrupt_nli_datasets.ipynb",
      "provenance": [],
      "collapsed_sections": [],
      "authorship_tag": "ABX9TyOn2qQvf/Eban4QmrFOHZFZ",
      "include_colab_link": true
    },
    "kernelspec": {
      "name": "python3",
      "display_name": "Python 3"
    }
  },
  "cells": [
    {
      "cell_type": "markdown",
      "metadata": {
        "id": "view-in-github",
        "colab_type": "text"
      },
      "source": [
        "<a href=\"https://colab.research.google.com/github/Helsinki-NLP/nli-data-sanity-check/blob/main/corrupt_nli_datasets.ipynb\" target=\"_parent\"><img src=\"https://colab.research.google.com/assets/colab-badge.svg\" alt=\"Open In Colab\"/></a>"
      ]
    },
    {
      "cell_type": "markdown",
      "metadata": {
        "id": "1sEfS8yah1wa"
      },
      "source": [
        "# Script to create data for the NLI Data Sanity Check\n",
        "https://github.com/Helsinki-NLP/nli-data-sanity-check\n",
        "\n"
      ]
    },
    {
      "cell_type": "code",
      "metadata": {
        "id": "6X2mpBntmyKu",
        "colab": {
          "base_uri": "https://localhost:8080/"
        },
        "outputId": "3a89fc79-c624-4d99-8e66-ce6136a01b98"
      },
      "source": [
        "from tqdm import tqdm\n",
        "import json\n",
        "from nltk.tokenize.treebank import TreebankWordDetokenizer\n",
        "import nltk\n",
        "nltk.download(['universal_tagset', 'punkt','averaged_perceptron_tagger'])"
      ],
      "execution_count": null,
      "outputs": [
        {
          "output_type": "stream",
          "text": [
            "[nltk_data] Downloading package universal_tagset to /root/nltk_data...\n",
            "[nltk_data]   Unzipping taggers/universal_tagset.zip.\n",
            "[nltk_data] Downloading package punkt to /root/nltk_data...\n",
            "[nltk_data]   Unzipping tokenizers/punkt.zip.\n",
            "[nltk_data] Downloading package averaged_perceptron_tagger to\n",
            "[nltk_data]     /root/nltk_data...\n",
            "[nltk_data]   Unzipping taggers/averaged_perceptron_tagger.zip.\n"
          ],
          "name": "stdout"
        },
        {
          "output_type": "execute_result",
          "data": {
            "text/plain": [
              "True"
            ]
          },
          "metadata": {
            "tags": []
          },
          "execution_count": 1
        }
      ]
    },
    {
      "cell_type": "code",
      "metadata": {
        "id": "tCUZfcyLkSPD"
      },
      "source": [
        "def dump_jsonl(data, output_path, append=False):\n",
        "    \"\"\"\n",
        "    Write list of objects to a JSON lines file.\n",
        "    \"\"\"\n",
        "    mode = 'a+' if append else 'w'\n",
        "    with open(output_path, mode, encoding='utf-8') as f:\n",
        "        for line in data:\n",
        "            json_record = json.dumps(line, ensure_ascii=False)\n",
        "            f.write(json_record + '\\n')\n",
        "\n",
        "def load_jsonl(input_path) -> list:\n",
        "    \"\"\"\n",
        "    Read list of objects from a JSON lines file.\n",
        "    \"\"\"\n",
        "    data = []\n",
        "    with open(input_path, 'r', encoding='utf-8') as f:\n",
        "        for line in f:\n",
        "            data.append(json.loads(line.rstrip('\\n|\\r')))\n",
        "    print('Loaded {} records from {}'.format(len(data), input_path))\n",
        "    return data\n"
      ],
      "execution_count": null,
      "outputs": []
    },
    {
      "cell_type": "code",
      "metadata": {
        "id": "f_-emzZKnB71"
      },
      "source": [
        "def corrupt(POS, data):\n",
        "  count_prem = 0\n",
        "  count_hypo = 0\n",
        "  premises = []\n",
        "  hypos = []\n",
        "\n",
        "  for line in data:\n",
        "    premise = nltk.word_tokenize(line['premise'])\n",
        "    hypothesis = nltk.word_tokenize(line['hypothesis'])\n",
        "    tagged_prem = nltk.pos_tag(premise, tagset='universal')\n",
        "    tagged_hypo = nltk.pos_tag(hypothesis, tagset='universal')\n",
        "    prems = []\n",
        "    hypot = []\n",
        "    \n",
        "    for prem_pair in tagged_prem:\n",
        "      if prem_pair[1] not in [POS]:\n",
        "        prems.append(prem_pair[0])\n",
        "      else:\n",
        "        count_prem = count_prem + 1\n",
        "    \n",
        "    for hypo_pair in tagged_hypo:\n",
        "      if hypo_pair[1] not in [POS]:\n",
        "        hypot.append(hypo_pair[0])\n",
        "      else:\n",
        "        count_hypo = count_hypo + 1\n",
        "\n",
        "    premises.append((TreebankWordDetokenizer().detokenize(prems)))\n",
        "    hypos.append((TreebankWordDetokenizer().detokenize(hypot)))\n",
        "\n",
        "  return count_prem, count_hypo, premises, hypos"
      ],
      "execution_count": null,
      "outputs": []
    },
    {
      "cell_type": "code",
      "metadata": {
        "colab": {
          "base_uri": "https://localhost:8080/"
        },
        "id": "E4w79lEAm3J7",
        "outputId": "270b7d6e-ccf1-4b85-b7dc-6d1f90f6b382"
      },
      "source": [
        "data = load_jsonl('test.jsonl')"
      ],
      "execution_count": null,
      "outputs": [
        {
          "output_type": "stream",
          "text": [
            "Loaded 1200 records from test.jsonl\n"
          ],
          "name": "stdout"
        }
      ]
    },
    {
      "cell_type": "code",
      "metadata": {
        "colab": {
          "base_uri": "https://localhost:8080/"
        },
        "id": "MikXjxvWkpi-",
        "outputId": "942890d6-1a86-4320-bee0-3f7751e4c6c1"
      },
      "source": [
        "print('Removing tokens...')\n",
        "print('No of tokens removed: \\n')\n",
        "print('POS,premises,hypotheses,total')\n",
        "for pos in ['NOUN', 'VERB', 'PRON', 'ADJ', 'ADV', 'NUM', 'CONJ', 'DET']:\n",
        "  count_prem, count_hypo, premises_1, hypos_1 = corrupts(pos, data)\n",
        "  for prem, line in zip(premises_1, data):\n",
        "    line['premise'] = prem\n",
        "  for hypos, line in zip(hypos_1, data):\n",
        "    line['hypothesis'] = hypos\n",
        "  dump_jsonl(data, 'test-'+pos+'.jsonl')\n",
        "\n",
        "  print(f'{pos},{count_prem},{count_hypo},{count_prem+count_hypo} ')"
      ],
      "execution_count": null,
      "outputs": [
        {
          "output_type": "stream",
          "text": [
            "NOUN,23086,4033,27119 \n",
            "VERB,11281,2258,13539 \n",
            "PRON,4152,446,4598 \n",
            "ADJ,3525,625,4150 \n",
            "ADV,2898,470,3368 \n",
            "NUM,1737,286,2023 \n",
            "CONJ,2073,142,2215 \n",
            "DET,7167,1406,8573 \n"
          ],
          "name": "stdout"
        }
      ]
    },
    {
      "cell_type": "code",
      "metadata": {
        "id": "dLCFihVbnGBV"
      },
      "source": [
        ""
      ],
      "execution_count": null,
      "outputs": []
    }
  ]
}