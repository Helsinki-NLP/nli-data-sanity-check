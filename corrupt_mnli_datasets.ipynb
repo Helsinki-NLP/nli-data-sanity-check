{
  "nbformat": 4,
  "nbformat_minor": 0,
  "metadata": {
    "colab": {
      "name": "corrupt_mnli_datasets.ipynb",
      "provenance": [],
      "collapsed_sections": []
    },
    "kernelspec": {
      "name": "python3",
      "display_name": "Python 3"
    }
  },
  "cells": [
    {
      "cell_type": "markdown",
      "metadata": {
        "id": "W_USwZH65G6x"
      },
      "source": [
        "# Sample script to create data for the NLI Data Sanity Check\n",
        "https://github.com/Helsinki-NLP/nli-data-sanity-check\n"
      ]
    },
    {
      "cell_type": "code",
      "metadata": {
        "colab": {
          "base_uri": "https://localhost:8080/"
        },
        "id": "p7rN3VGSOrHt",
        "outputId": "ea094316-1c01-4ba8-bd5f-f415e786171b"
      },
      "source": [
        "!pip install datasets"
      ],
      "execution_count": 1,
      "outputs": [
        {
          "output_type": "stream",
          "text": [
            "Requirement already satisfied: datasets in /usr/local/lib/python3.7/dist-packages (1.5.0)\n",
            "Requirement already satisfied: xxhash in /usr/local/lib/python3.7/dist-packages (from datasets) (2.0.0)\n",
            "Requirement already satisfied: importlib-metadata; python_version < \"3.8\" in /usr/local/lib/python3.7/dist-packages (from datasets) (3.8.1)\n",
            "Requirement already satisfied: multiprocess in /usr/local/lib/python3.7/dist-packages (from datasets) (0.70.11.1)\n",
            "Requirement already satisfied: requests>=2.19.0 in /usr/local/lib/python3.7/dist-packages (from datasets) (2.23.0)\n",
            "Requirement already satisfied: tqdm<4.50.0,>=4.27 in /usr/local/lib/python3.7/dist-packages (from datasets) (4.41.1)\n",
            "Requirement already satisfied: pyarrow>=0.17.1 in /usr/local/lib/python3.7/dist-packages (from datasets) (3.0.0)\n",
            "Requirement already satisfied: numpy>=1.17 in /usr/local/lib/python3.7/dist-packages (from datasets) (1.19.5)\n",
            "Requirement already satisfied: dill in /usr/local/lib/python3.7/dist-packages (from datasets) (0.3.3)\n",
            "Requirement already satisfied: huggingface-hub<0.1.0 in /usr/local/lib/python3.7/dist-packages (from datasets) (0.0.8)\n",
            "Requirement already satisfied: fsspec in /usr/local/lib/python3.7/dist-packages (from datasets) (0.9.0)\n",
            "Requirement already satisfied: pandas in /usr/local/lib/python3.7/dist-packages (from datasets) (1.1.5)\n",
            "Requirement already satisfied: typing-extensions>=3.6.4; python_version < \"3.8\" in /usr/local/lib/python3.7/dist-packages (from importlib-metadata; python_version < \"3.8\"->datasets) (3.7.4.3)\n",
            "Requirement already satisfied: zipp>=0.5 in /usr/local/lib/python3.7/dist-packages (from importlib-metadata; python_version < \"3.8\"->datasets) (3.4.1)\n",
            "Requirement already satisfied: idna<3,>=2.5 in /usr/local/lib/python3.7/dist-packages (from requests>=2.19.0->datasets) (2.10)\n",
            "Requirement already satisfied: urllib3!=1.25.0,!=1.25.1,<1.26,>=1.21.1 in /usr/local/lib/python3.7/dist-packages (from requests>=2.19.0->datasets) (1.24.3)\n",
            "Requirement already satisfied: chardet<4,>=3.0.2 in /usr/local/lib/python3.7/dist-packages (from requests>=2.19.0->datasets) (3.0.4)\n",
            "Requirement already satisfied: certifi>=2017.4.17 in /usr/local/lib/python3.7/dist-packages (from requests>=2.19.0->datasets) (2020.12.5)\n",
            "Requirement already satisfied: filelock in /usr/local/lib/python3.7/dist-packages (from huggingface-hub<0.1.0->datasets) (3.0.12)\n",
            "Requirement already satisfied: pytz>=2017.2 in /usr/local/lib/python3.7/dist-packages (from pandas->datasets) (2018.9)\n",
            "Requirement already satisfied: python-dateutil>=2.7.3 in /usr/local/lib/python3.7/dist-packages (from pandas->datasets) (2.8.1)\n",
            "Requirement already satisfied: six>=1.5 in /usr/local/lib/python3.7/dist-packages (from python-dateutil>=2.7.3->pandas->datasets) (1.15.0)\n"
          ],
          "name": "stdout"
        }
      ]
    },
    {
      "cell_type": "code",
      "metadata": {
        "id": "dwVNtbFGOz2L"
      },
      "source": [
        "import datasets"
      ],
      "execution_count": 2,
      "outputs": []
    },
    {
      "cell_type": "code",
      "metadata": {
        "colab": {
          "base_uri": "https://localhost:8080/"
        },
        "id": "WFEqr7BdPEaI",
        "outputId": "520ceb4c-ec78-4e21-8cc4-cbd504e4d8ea"
      },
      "source": [
        "nli_data = datasets.load_dataset('multi_nli')"
      ],
      "execution_count": 3,
      "outputs": [
        {
          "output_type": "stream",
          "text": [
            "Using custom data configuration default\n",
            "Reusing dataset multi_nli (/root/.cache/huggingface/datasets/multi_nli/default/0.0.0/3248359997b13e6ccd296f42420b31c107ba6859b742ed6af1dce0f1544c9ec1)\n"
          ],
          "name": "stderr"
        }
      ]
    },
    {
      "cell_type": "code",
      "metadata": {
        "id": "xOPNYzmBPeGm"
      },
      "source": [
        "train_data = nli_data['train']\n",
        "dev = nli_data['validation_matched']\n",
        "test = nli_data['validation_matched']"
      ],
      "execution_count": 4,
      "outputs": []
    },
    {
      "cell_type": "code",
      "metadata": {
        "id": "Gx_8s4UwgqXO"
      },
      "source": [
        "train_hypothesis = train_data['hypothesis']\n",
        "train_premise = train_data['premise']\n",
        "train_label = train_data['label']"
      ],
      "execution_count": 5,
      "outputs": []
    },
    {
      "cell_type": "code",
      "metadata": {
        "id": "tFM15QK1PxBN"
      },
      "source": [
        "dev_hypothesis = dev['hypothesis']\n",
        "dev_premise = dev['premise']\n",
        "dev_label = dev['label']"
      ],
      "execution_count": 6,
      "outputs": []
    },
    {
      "cell_type": "code",
      "metadata": {
        "colab": {
          "base_uri": "https://localhost:8080/"
        },
        "id": "IrC3DWTeXitZ",
        "outputId": "4e915f0c-67ca-4978-d1f2-b33a780b35c9"
      },
      "source": [
        "import nltk\n",
        "nltk.download(['universal_tagset', 'punkt','averaged_perceptron_tagger'])"
      ],
      "execution_count": 7,
      "outputs": [
        {
          "output_type": "stream",
          "text": [
            "[nltk_data] Downloading package universal_tagset to /root/nltk_data...\n",
            "[nltk_data]   Package universal_tagset is already up-to-date!\n",
            "[nltk_data] Downloading package punkt to /root/nltk_data...\n",
            "[nltk_data]   Package punkt is already up-to-date!\n",
            "[nltk_data] Downloading package averaged_perceptron_tagger to\n",
            "[nltk_data]     /root/nltk_data...\n",
            "[nltk_data]   Package averaged_perceptron_tagger is already up-to-\n",
            "[nltk_data]       date!\n"
          ],
          "name": "stdout"
        },
        {
          "output_type": "execute_result",
          "data": {
            "text/plain": [
              "True"
            ]
          },
          "metadata": {
            "tags": []
          },
          "execution_count": 7
        }
      ]
    },
    {
      "cell_type": "markdown",
      "metadata": {
        "id": "8OlVj7Kw5bcR"
      },
      "source": [
        "###Define whether to corrupt the test data or train data."
      ]
    },
    {
      "cell_type": "code",
      "metadata": {
        "id": "XvCei1nr2z8y"
      },
      "source": [
        "dataset = 'train'"
      ],
      "execution_count": 8,
      "outputs": []
    },
    {
      "cell_type": "code",
      "metadata": {
        "id": "XkmSEVMz4nb7"
      },
      "source": [
        "if dataset == 'dev':\n",
        "  premise = test['premise']\n",
        "  hypothesis = test['hypothesis']\n",
        "  goldlabels = test['label']\n",
        "else:\n",
        "  premise = train_data['premise']\n",
        "  hypothesis = train_data['hypothesis']\n",
        "  goldlabels = train_data['label']"
      ],
      "execution_count": 9,
      "outputs": []
    },
    {
      "cell_type": "code",
      "metadata": {
        "id": "Bk3UUnW-g4js",
        "colab": {
          "base_uri": "https://localhost:8080/"
        },
        "outputId": "71857102-b5de-4553-b023-dfd6ffd8166d"
      },
      "source": [
        "\n",
        "from tqdm import tqdm\n",
        "tokenized_prem = []\n",
        "prem_labels = []\n",
        "for sentence in tqdm(premise):\n",
        "  text = nltk.word_tokenize(sentence)\n",
        "  tagged = nltk.pos_tag(text, tagset='universal')\n",
        "  sent = []\n",
        "  lab = []\n",
        "  for pair in tagged:\n",
        "    sent.append(pair[0])\n",
        "    lab.append(pair[1])\n",
        "\n",
        "  tokenized_prem.append(sent)\n",
        "  prem_labels.append(lab)"
      ],
      "execution_count": 10,
      "outputs": [
        {
          "output_type": "stream",
          "text": [
            "100%|██████████| 392702/392702 [12:11<00:00, 536.77it/s]\n"
          ],
          "name": "stderr"
        }
      ]
    },
    {
      "cell_type": "code",
      "metadata": {
        "id": "aT0ZqJTuhXHD",
        "colab": {
          "base_uri": "https://localhost:8080/"
        },
        "outputId": "d4d95e45-6ab1-4c31-c6a3-68bed04dcd50"
      },
      "source": [
        "tokenized_hypo = []\n",
        "hypo_labels = []\n",
        "for sentence in tqdm(hypothesis):\n",
        "  text = nltk.word_tokenize(sentence)\n",
        "  tagged = nltk.pos_tag(text, tagset='universal')\n",
        "  sent = []\n",
        "  lab = []\n",
        "  for pair in tagged:\n",
        "    sent.append(pair[0])\n",
        "    lab.append(pair[1])\n",
        "\n",
        "  tokenized_hypo.append(sent)\n",
        "  hypo_labels.append(lab)"
      ],
      "execution_count": 11,
      "outputs": [
        {
          "output_type": "stream",
          "text": [
            "100%|██████████| 392702/392702 [06:39<00:00, 983.44it/s] \n"
          ],
          "name": "stderr"
        }
      ]
    },
    {
      "cell_type": "code",
      "metadata": {
        "id": "9Bk-IrbHhepf"
      },
      "source": [
        "def corrupt(POS, tokenized_hypo, hypo_labels, tokenized_prem, prem_labels):\n",
        "  prem_list = []\n",
        "  hypo_list = []\n",
        "\n",
        "  count_prem = 0\n",
        "  count_hypo = 0\n",
        "\n",
        "  for h, l in zip(tokenized_hypo, hypo_labels):\n",
        "    sent = []\n",
        "    for word, label in zip(h, l):\n",
        "      if label not in [POS]:\n",
        "        sent.append(word)\n",
        "      else:\n",
        "        count_hypo = count_hypo + 1\n",
        "    hypo_list.append(sent)\n",
        "\n",
        "  for h, l in zip(tokenized_prem, prem_labels):\n",
        "    sent = []\n",
        "    for word, label in zip(h, l):\n",
        "      if label not in [POS]:\n",
        "        sent.append(word)\n",
        "      else:\n",
        "        count_prem = count_prem + 1\n",
        "    prem_list.append(sent)\n",
        "\n",
        "  print(f'TOKENS REMOVED ({POS}):')\n",
        "  print('prem: ' + str(count_prem))\n",
        "  print('hypo: ' + str(count_hypo))\n",
        "  return prem_list, hypo_list"
      ],
      "execution_count": 12,
      "outputs": []
    },
    {
      "cell_type": "code",
      "metadata": {
        "id": "TVtRHvo9hXAi"
      },
      "source": [
        "def write_file(POS, prem_list, hypo_list, goldlabels):\n",
        "  filename = 'MNLI-'+ POS + '.tsv'\n",
        "  with open(filename, 'w') as adjfile:\n",
        "    i=0\n",
        "    adjfile.write('index\\tsentence1\\tsentence2\\tgold_label\\n')\n",
        "    for pre, hyp, lab in zip(prem_list, hypo_list, goldlabels):\n",
        "      if str(lab) == '0':\n",
        "        lab = 'entailment'\n",
        "      elif str(lab) == '1':\n",
        "        lab = 'neutral'\n",
        "      else:\n",
        "        lab = 'contradiction'\n",
        "      if len(hyp) != 0 and len(pre) != 0:\n",
        "        adjfile.write(str(i) + \"\\t\" + ' '.join(pre) + \"\\t\" + ' '.join(hyp) + '\\t' + lab + '\\n')\n",
        "        i = i+1"
      ],
      "execution_count": 13,
      "outputs": []
    },
    {
      "cell_type": "code",
      "metadata": {
        "colab": {
          "base_uri": "https://localhost:8080/"
        },
        "id": "4QeYCbfI6xR4",
        "outputId": "6aeda806-6c99-4a19-809f-d2998079ae36"
      },
      "source": [
        "for pos in ['NOUN', 'VERB', 'PRON', 'ADJ', 'ADV', 'CONJ', 'NUM', 'DET']:\n",
        "  prem_list, hypo_list = corrupt(pos, tokenized_hypo, hypo_labels, tokenized_prem, prem_labels)\n",
        "  write_file(pos, prem_list, hypo_list, goldlabels)"
      ],
      "execution_count": 14,
      "outputs": [
        {
          "output_type": "stream",
          "text": [
            "TOKENS REMOVED (NOUN):\n",
            "prem: 2228780\n",
            "hypo: 1090814\n",
            "TOKENS REMOVED (VERB):\n",
            "prem: 1474454\n",
            "hypo: 886597\n",
            "TOKENS REMOVED (PRON):\n",
            "prem: 543968\n",
            "hypo: 301293\n",
            "TOKENS REMOVED (ADJ):\n",
            "prem: 677095\n",
            "hypo: 302652\n",
            "TOKENS REMOVED (ADV):\n",
            "prem: 492895\n",
            "hypo: 237250\n",
            "TOKENS REMOVED (CONJ):\n",
            "prem: 320210\n",
            "hypo: 76466\n",
            "TOKENS REMOVED (NUM):\n",
            "prem: 119587\n",
            "hypo: 44289\n",
            "TOKENS REMOVED (DET):\n",
            "prem: 886966\n",
            "hypo: 483238\n"
          ],
          "name": "stdout"
        }
      ]
    },
    {
      "cell_type": "code",
      "metadata": {
        "id": "Lznfoz0_AYDj"
      },
      "source": [
        ""
      ],
      "execution_count": 14,
      "outputs": []
    }
  ]
}